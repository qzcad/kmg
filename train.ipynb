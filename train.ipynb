{
 "cells": [
  {
   "cell_type": "code",
   "execution_count": null,
   "outputs": [],
   "source": [
    "from keramuse.AnnMidiProcessor import AnnMidiProcessor\n",
    "import matplotlib.pyplot as plt\n",
    "## Parameters"
   ],
   "metadata": {
    "collapsed": false,
    "pycharm": {
     "name": "#%%\n"
    }
   }
  },
  {
   "cell_type": "code",
   "execution_count": null,
   "outputs": [],
   "source": [
    "track = 0\n",
    "sequence_length = 16\n",
    "max_midis = 0\n",
    "music_dir = 'music'\n",
    "units = 256\n",
    "rate = 0.2\n",
    "activation = 'relu'\n",
    "loss = 'mean_squared_error'\n",
    "opt = 'rmsprop'\n",
    "batch_size = 8\n",
    "nb_epoch = 400\n",
    "## Code Section"
   ],
   "metadata": {
    "collapsed": false,
    "pycharm": {
     "name": "#%%\n"
    }
   }
  },
  {
   "cell_type": "code",
   "execution_count": null,
   "outputs": [],
   "source": [
    "amp = AnnMidiProcessor(track=track, sequence_length=sequence_length)\n",
    "amp.load_midi(max_midis=max_midis, music_dir=music_dir)\n",
    "input_notes, output_notes = amp.construct_sequences()\n",
    "amp.make_model(units=units, rate=rate, activation=activation, loss=loss, opt=opt)\n",
    "history = amp.train_model(input_notes, output_notes, batch_size=batch_size, nb_epoch=nb_epoch)\n",
    "plt.plot(history.history['acc'], label='train')\n",
    "plt.title('model accuracy')\n",
    "plt.ylabel('accuracy')\n",
    "plt.xlabel('epoch')\n",
    "plt.legend()\n",
    "plt.show()\n",
    "plt.plot(history.history['loss'], label='loss')\n",
    "plt.title('model loss')\n",
    "plt.ylabel('loss')\n",
    "plt.xlabel('epoch')\n",
    "plt.legend()\n",
    "plt.show()"
   ],
   "metadata": {
    "collapsed": false,
    "pycharm": {
     "name": "#%% \n"
    }
   }
  }
 ],
 "metadata": {
  "language_info": {
   "codemirror_mode": {
    "name": "ipython",
    "version": 2
   },
   "file_extension": ".py",
   "mimetype": "text/x-python",
   "name": "python",
   "nbconvert_exporter": "python",
   "pygments_lexer": "ipython2",
   "version": "2.7.6"
  },
  "kernelspec": {
   "name": "python3",
   "language": "python",
   "display_name": "Python 3"
  },
  "pycharm": {
   "stem_cell": {
    "cell_type": "raw",
    "source": [
     "## Imports"
    ],
    "metadata": {
     "collapsed": false
    }
   }
  }
 },
 "nbformat": 4,
 "nbformat_minor": 0
}